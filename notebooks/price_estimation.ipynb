{
 "cells": [
  {
   "cell_type": "code",
   "execution_count": 1,
   "id": "a4f3dbff",
   "metadata": {},
   "outputs": [],
   "source": [
    "%%capture\n",
    "#Load model_training_and_evaluation file\n",
    "%run model_training_and_evaluation.ipynb"
   ]
  },
  {
   "cell_type": "code",
   "execution_count": 2,
   "id": "de1c63e1",
   "metadata": {},
   "outputs": [
    {
     "name": "stdout",
     "output_type": "stream",
     "text": [
      "Put 1 for Yes and 0 for No for these features :mainroad, guestroom, basement, hotwaterheating, airconditioning, prefarea\n",
      "Put 0 for furnished, 1 for semi-furnished, and 2 for unfurnished for furnishingstatus feature\n",
      "Enter value for area: 3200\n",
      "Enter value for bedrooms: 6\n",
      "Enter value for bathrooms: 5\n",
      "Enter value for stories: 4\n",
      "Enter value for mainroad: 1\n",
      "Enter value for guestroom: 0\n",
      "Enter value for basement: 0\n",
      "Enter value for hotwaterheating: 1\n",
      "Enter value for airconditioning: 1\n",
      "Enter value for parking: 2\n",
      "Enter value for prefarea: 0\n",
      "Enter value for furnishingstatus: 2\n",
      "Predicted Price: 6055038.00 USD\n"
     ]
    }
   ],
   "source": [
    "#Create XGBoost regressor model\n",
    "model = XGBRegressor(objective='reg:squarederror', random_state=42)\n",
    "\n",
    "#Fit the model\n",
    "model.fit(X, y)\n",
    "\n",
    "print(\"Put 1 for Yes and 0 for No for these features :mainroad, guestroom, basement, hotwaterheating, airconditioning, prefarea\")\n",
    "print(\"Put 0 for furnished, 1 for semi-furnished, and 2 for unfurnished for furnishingstatus feature\")\n",
    "#Input values for the features to predict the price\n",
    "input_features = {}\n",
    "for feature in X.columns:\n",
    "    value = float(input(f\"Enter value for {feature}: \"))\n",
    "    input_features[feature] = [value]\n",
    "\n",
    "input_dataset = pd.DataFrame(input_features)\n",
    "\n",
    "#Make predictions for the input values\n",
    "predicted_price = model.predict(input_dataset)\n",
    "\n",
    "#Display the predicted price\n",
    "print(f\"Predicted Price: {predicted_price[0]:.2f} USD\")"
   ]
  },
  {
   "cell_type": "code",
   "execution_count": null,
   "id": "16ed7aef",
   "metadata": {},
   "outputs": [],
   "source": []
  }
 ],
 "metadata": {
  "kernelspec": {
   "display_name": "Python 3",
   "language": "python",
   "name": "python3"
  },
  "language_info": {
   "codemirror_mode": {
    "name": "ipython",
    "version": 3
   },
   "file_extension": ".py",
   "mimetype": "text/x-python",
   "name": "python",
   "nbconvert_exporter": "python",
   "pygments_lexer": "ipython3",
   "version": "3.8.8"
  }
 },
 "nbformat": 4,
 "nbformat_minor": 5
}
